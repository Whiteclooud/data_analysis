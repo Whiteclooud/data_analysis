{
 "cells": [
  {
   "cell_type": "code",
   "execution_count": 2,
   "id": "819d7a77-460a-439c-bfdb-4ba0ccb88225",
   "metadata": {},
   "outputs": [],
   "source": [
    "import numpy as np"
   ]
  },
  {
   "cell_type": "markdown",
   "id": "825d6fb0-a158-4043-a1cf-6beca34ffca5",
   "metadata": {},
   "source": [
    "# 创建数组对象"
   ]
  },
  {
   "cell_type": "code",
   "execution_count": 16,
   "id": "f428448e-5cc7-4a40-bdc4-215d82bed442",
   "metadata": {},
   "outputs": [
    {
     "name": "stdout",
     "output_type": "stream",
     "text": [
      "一维数组： [1 2 3 4]\n"
     ]
    }
   ],
   "source": [
    "arr1 = np.array([1,2,3,4])                #创建一维数组\n",
    "print(\"一维数组：\",arr1)"
   ]
  },
  {
   "cell_type": "code",
   "execution_count": 7,
   "id": "be1225c6-161f-4e78-90ae-04187ed19b9f",
   "metadata": {},
   "outputs": [
    {
     "name": "stdout",
     "output_type": "stream",
     "text": [
      "二维数组：\n",
      " [[1 2 3]\n",
      " [4 5 6]]\n"
     ]
    }
   ],
   "source": [
    "arr2 = np.array([[1,2,3],[4,5,6]])        #创建二维2数组\n",
    "print(\"二维数组：\\n\",arr2)"
   ]
  },
  {
   "cell_type": "code",
   "execution_count": 8,
   "id": "3ee52ca9-e730-4bc4-8bef-5518215c98e8",
   "metadata": {},
   "outputs": [
    {
     "name": "stdout",
     "output_type": "stream",
     "text": [
      "三维数组:\n",
      " [[[1 2 3 4]]]\n"
     ]
    }
   ],
   "source": [
    "arr3 = np.array([1,2,3,4],ndmin=3)       #设置最小为度3\n",
    "print(\"三维数组:\\n\",arr3)"
   ]
  },
  {
   "cell_type": "code",
   "execution_count": 9,
   "id": "32414027-ef20-4195-a84f-c102c43522a7",
   "metadata": {},
   "outputs": [
    {
     "name": "stdout",
     "output_type": "stream",
     "text": [
      "复数数组: [1.+0.j 2.+0.j 3.+0.j 4.+0.j]\n"
     ]
    }
   ],
   "source": [
    "arr4 = np.array([1,2,3,4],dtype=complex) #指定数据类型dtype为复数\n",
    "print(\"复数数组:\",arr4)"
   ]
  },
  {
   "cell_type": "markdown",
   "id": "e4f79e33-6659-458d-881e-ec43ee2d14ce",
   "metadata": {},
   "source": [
    "# 数组的属性"
   ]
  },
  {
   "cell_type": "code",
   "execution_count": 15,
   "id": "1382d5ed-58d4-47e6-89b4-d34d2676f420",
   "metadata": {},
   "outputs": [
    {
     "name": "stdout",
     "output_type": "stream",
     "text": [
      "数组维度: 2\n",
      "数组形状: (2, 3)\n",
      "数组的元素总数: 6\n",
      "数组元素的数据类型: int32\n",
      "数组中每个元素的大小： 4\n",
      "数组\n",
      " [[1 2]\n",
      " [3 4]\n",
      " [5 6]]\n",
      "数组元素的数据类型: float32\n"
     ]
    }
   ],
   "source": [
    "arr1 = np.array([[1,2,3],[4,5,6]])\n",
    "print(\"数组维度:\",arr1.ndim)\n",
    "print(\"数组形状:\",arr1.shape)\n",
    "print(\"数组的元素总数:\",arr1.size)\n",
    "print(\"数组元素的数据类型:\",arr1.dtype)\n",
    "print(\"数组中每个元素的大小：\",arr1.itemsize)\n",
    "arr1.shape=(3,2)  #shape属性应用\n",
    "print(\"数组\\n\",arr1)\n",
    "#利用dtype属性指定数据类型\n",
    "arr3 = np.array([1,2,3,4],dtype = np.float32)\n",
    "print(\"数组元素的数据类型:\",arr3.dtype)"
   ]
  },
  {
   "cell_type": "code",
   "execution_count": 25,
   "id": "418e20b3-022e-4c4b-a412-6601e296d0d1",
   "metadata": {},
   "outputs": [
    {
     "name": "stdout",
     "output_type": "stream",
     "text": [
      "数据类型： [('pro_name', '<U50'), ('pro_price', '<f4')]\n"
     ]
    }
   ],
   "source": [
    "pro_type = np.dtype([('pro_name',str,50),('pro_price',np.float32)])\n",
    "print('数据类型：',pro_type)"
   ]
  },
  {
   "cell_type": "code",
   "execution_count": 27,
   "id": "da37defd-8e47-4a9a-ab73-7c0a79b5eb8a",
   "metadata": {},
   "outputs": [
    {
     "name": "stdout",
     "output_type": "stream",
     "text": [
      "自定义数据类型: [('电视机', 3400.) ('空调', 2600.)]\n"
     ]
    }
   ],
   "source": [
    "pro_arr=np.array([('电视机',3400),('空调',2600)],dtype=pro_type)\n",
    "print('自定义数据类型:',pro_arr)"
   ]
  },
  {
   "cell_type": "markdown",
   "id": "83395b8e-85d3-4564-943b-2787b4d8ae29",
   "metadata": {},
   "source": [
    "# 索引和切片"
   ]
  },
  {
   "cell_type": "code",
   "execution_count": 9,
   "id": "dd88da74-c7a9-4b27-8774-dad8a9bf3b72",
   "metadata": {},
   "outputs": [
    {
     "name": "stdout",
     "output_type": "stream",
     "text": [
      "9\n"
     ]
    }
   ],
   "source": [
    "#创建一维数组\n",
    "arr=np.array([1,2,6,8,9,10,12])\n",
    "a=arr[4]                                #获取第5个元素\n",
    "print(a)"
   ]
  },
  {
   "cell_type": "code",
   "execution_count": 5,
   "id": "ab1be9bb-e1d4-4e43-94f0-04ca2efc2de8",
   "metadata": {},
   "outputs": [
    {
     "name": "stdout",
     "output_type": "stream",
     "text": [
      "[ 2  8 10] [1 2 6 8 9] [ 6  8  9 10 12]\n"
     ]
    }
   ],
   "source": [
    "#一维数组切片\n",
    "b1=arr[1:6:2]             \n",
    "b2=arr[:5]\n",
    "b3=arr[2:]\n",
    "print(b1,b2,b3)"
   ]
  },
  {
   "cell_type": "code",
   "execution_count": 8,
   "id": "5feef7bf-d0fd-4921-b50d-a8d3d9c5e67a",
   "metadata": {},
   "outputs": [
    {
     "name": "stdout",
     "output_type": "stream",
     "text": [
      "[ 1 20 30  8  9 10 12]\n"
     ]
    }
   ],
   "source": [
    "#修改数组中的元素\n",
    "arr[1:3]=20,30\n",
    "print(arr)"
   ]
  },
  {
   "cell_type": "code",
   "execution_count": 10,
   "id": "ce4496f8-e331-4009-906c-3656bc3fcbbd",
   "metadata": {},
   "outputs": [
    {
     "name": "stdout",
     "output_type": "stream",
     "text": [
      "8\n"
     ]
    }
   ],
   "source": [
    "#创建二维数组\n",
    "arr=np.array([[0,1,2,3,4],[5,6,7,8,9]])\n",
    "a=arr[1,3]\n",
    "print(a)"
   ]
  },
  {
   "cell_type": "code",
   "execution_count": 28,
   "id": "711ee0a0-577b-41d8-9483-19f6f15d0973",
   "metadata": {},
   "outputs": [
    {
     "name": "stdout",
     "output_type": "stream",
     "text": [
      "1: [[1 2]\n",
      " [6 7]]\n",
      "2: [[7 8 9]]\n",
      "3: [[0 2]]\n",
      "4: [[1 2]\n",
      " [6 7]]\n"
     ]
    }
   ],
   "source": [
    "#二维数组切片\n",
    "b1=arr[:2,1:3]\n",
    "b2=arr[1:,2:5]\n",
    "b3=arr[:2:2,:3:2]\n",
    "b4=arr[...,1:3]\n",
    "print('1:',b1)\n",
    "print('2:',b2)\n",
    "print('3:',b3)\n",
    "print('4:',b4)"
   ]
  },
  {
   "cell_type": "code",
   "execution_count": 29,
   "id": "be9704a5-7f75-420a-85be-acabbc58c26a",
   "metadata": {},
   "outputs": [
    {
     "name": "stdout",
     "output_type": "stream",
     "text": [
      "[[44  1 55  3  4]\n",
      " [ 5  6  7  8  9]]\n"
     ]
    }
   ],
   "source": [
    "#修改数组中的元素\n",
    "arr[:2:2,:3:2]=44,55\n",
    "print(arr)"
   ]
  },
  {
   "cell_type": "code",
   "execution_count": 38,
   "id": "35eb192d-ba18-4fca-87d3-2753ffdea468",
   "metadata": {},
   "outputs": [
    {
     "name": "stdout",
     "output_type": "stream",
     "text": [
      "[1 5 7]\n"
     ]
    }
   ],
   "source": [
    "#整数索引\n",
    "a=np.array([[1,2,3],[4,5,6],[7,8,9]])\n",
    "b=a[(0,1,2),(0,1,0)]\n",
    "print(b)           #[0,0],[1,1],[2,0]"
   ]
  },
  {
   "cell_type": "code",
   "execution_count": 40,
   "id": "9f15ac6e-6fc0-4317-8ea7-65a93918d64f",
   "metadata": {},
   "outputs": [
    {
     "name": "stdout",
     "output_type": "stream",
     "text": [
      "[1 3 7 9]\n"
     ]
    }
   ],
   "source": [
    "b=a[(0,0,2,2),(0,2,0,2)]\n",
    "print(b)           #[0,0],[0,2],[2,0],[2,2]"
   ]
  },
  {
   "cell_type": "code",
   "execution_count": 45,
   "id": "c3184838-4d6b-4ec3-a28e-3dc57e40f13e",
   "metadata": {},
   "outputs": [
    {
     "name": "stdout",
     "output_type": "stream",
     "text": [
      "a数组是： [[ 0  1  2]\n",
      " [ 3  4  5]\n",
      " [ 6  7  8]\n",
      " [ 9 10 11]]\n",
      "[ 6  7  8  9 10 11]\n"
     ]
    }
   ],
   "source": [
    "#布尔值索引\n",
    "a=np.array([[0,1,2,],[3,4,5],[6,7,8],[9,10,11]])\n",
    "print('a数组是：',a)\n",
    "#生成大于6的元素组成数组\n",
    "b=a[a>5]\n",
    "print(b)"
   ]
  },
  {
   "cell_type": "code",
   "execution_count": null,
   "id": "de6831fa-3d92-4bf6-9fb5-8976f81ba276",
   "metadata": {},
   "outputs": [],
   "source": []
  }
 ],
 "metadata": {
  "kernelspec": {
   "display_name": "Python 3 (ipykernel)",
   "language": "python",
   "name": "python3"
  },
  "language_info": {
   "codemirror_mode": {
    "name": "ipython",
    "version": 3
   },
   "file_extension": ".py",
   "mimetype": "text/x-python",
   "name": "python",
   "nbconvert_exporter": "python",
   "pygments_lexer": "ipython3",
   "version": "3.9.7"
  }
 },
 "nbformat": 4,
 "nbformat_minor": 5
}
