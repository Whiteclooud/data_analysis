{
 "cells": [
  {
   "cell_type": "code",
   "execution_count": 1,
   "id": "819d7a77-460a-439c-bfdb-4ba0ccb88225",
   "metadata": {},
   "outputs": [],
   "source": [
    "import numpy as np"
   ]
  },
  {
   "cell_type": "markdown",
   "id": "825d6fb0-a158-4043-a1cf-6beca34ffca5",
   "metadata": {},
   "source": [
    "# 创建数组对象"
   ]
  },
  {
   "cell_type": "code",
   "execution_count": 16,
   "id": "f428448e-5cc7-4a40-bdc4-215d82bed442",
   "metadata": {},
   "outputs": [
    {
     "name": "stdout",
     "output_type": "stream",
     "text": [
      "一维数组： [1 2 3 4]\n"
     ]
    }
   ],
   "source": [
    "arr1 = np.array([1,2,3,4])                #创建一维数组\n",
    "print(\"一维数组：\",arr1)"
   ]
  },
  {
   "cell_type": "code",
   "execution_count": 7,
   "id": "be1225c6-161f-4e78-90ae-04187ed19b9f",
   "metadata": {},
   "outputs": [
    {
     "name": "stdout",
     "output_type": "stream",
     "text": [
      "二维数组：\n",
      " [[1 2 3]\n",
      " [4 5 6]]\n"
     ]
    }
   ],
   "source": [
    "arr2 = np.array([[1,2,3],[4,5,6]])        #创建二维2数组\n",
    "print(\"二维数组：\\n\",arr2)"
   ]
  },
  {
   "cell_type": "code",
   "execution_count": 8,
   "id": "3ee52ca9-e730-4bc4-8bef-5518215c98e8",
   "metadata": {},
   "outputs": [
    {
     "name": "stdout",
     "output_type": "stream",
     "text": [
      "三维数组:\n",
      " [[[1 2 3 4]]]\n"
     ]
    }
   ],
   "source": [
    "arr3 = np.array([1,2,3,4],ndmin=3)       #设置最小为度3\n",
    "print(\"三维数组:\\n\",arr3)"
   ]
  },
  {
   "cell_type": "code",
   "execution_count": 9,
   "id": "32414027-ef20-4195-a84f-c102c43522a7",
   "metadata": {},
   "outputs": [
    {
     "name": "stdout",
     "output_type": "stream",
     "text": [
      "复数数组: [1.+0.j 2.+0.j 3.+0.j 4.+0.j]\n"
     ]
    }
   ],
   "source": [
    "arr4 = np.array([1,2,3,4],dtype=complex) #指定数据类型dtype为复数\n",
    "print(\"复数数组:\",arr4)"
   ]
  },
  {
   "cell_type": "markdown",
   "id": "e4f79e33-6659-458d-881e-ec43ee2d14ce",
   "metadata": {},
   "source": [
    "# 数组的属性"
   ]
  },
  {
   "cell_type": "code",
   "execution_count": 15,
   "id": "1382d5ed-58d4-47e6-89b4-d34d2676f420",
   "metadata": {},
   "outputs": [
    {
     "name": "stdout",
     "output_type": "stream",
     "text": [
      "数组维度: 2\n",
      "数组形状: (2, 3)\n",
      "数组的元素总数: 6\n",
      "数组元素的数据类型: int32\n",
      "数组中每个元素的大小： 4\n",
      "数组\n",
      " [[1 2]\n",
      " [3 4]\n",
      " [5 6]]\n",
      "数组元素的数据类型: float32\n"
     ]
    }
   ],
   "source": [
    "arr1 = np.array([[1,2,3],[4,5,6]])\n",
    "print(\"数组维度:\",arr1.ndim)\n",
    "print(\"数组形状:\",arr1.shape)\n",
    "print(\"数组的元素总数:\",arr1.size)\n",
    "print(\"数组元素的数据类型:\",arr1.dtype)\n",
    "print(\"数组中每个元素的大小：\",arr1.itemsize)\n",
    "arr1.shape=(3,2)  #shape属性应用\n",
    "print(\"数组\\n\",arr1)\n",
    "#利用dtype属性指定数据类型\n",
    "arr3 = np.array([1,2,3,4],dtype = np.float32)\n",
    "print(\"数组元素的数据类型:\",arr3.dtype)"
   ]
  },
  {
   "cell_type": "code",
   "execution_count": 25,
   "id": "418e20b3-022e-4c4b-a412-6601e296d0d1",
   "metadata": {},
   "outputs": [
    {
     "name": "stdout",
     "output_type": "stream",
     "text": [
      "数据类型： [('pro_name', '<U50'), ('pro_price', '<f4')]\n"
     ]
    }
   ],
   "source": [
    "pro_type = np.dtype([('pro_name',str,50),('pro_price',np.float32)])\n",
    "print('数据类型：',pro_type)"
   ]
  },
  {
   "cell_type": "code",
   "execution_count": 27,
   "id": "da37defd-8e47-4a9a-ab73-7c0a79b5eb8a",
   "metadata": {},
   "outputs": [
    {
     "name": "stdout",
     "output_type": "stream",
     "text": [
      "自定义数据类型: [('电视机', 3400.) ('空调', 2600.)]\n"
     ]
    }
   ],
   "source": [
    "pro_arr=np.array([('电视机',3400),('空调',2600)],dtype=pro_type)\n",
    "print('自定义数据类型:',pro_arr)"
   ]
  },
  {
   "cell_type": "markdown",
   "id": "83395b8e-85d3-4564-943b-2787b4d8ae29",
   "metadata": {},
   "source": [
    "# 索引和切片"
   ]
  },
  {
   "cell_type": "code",
   "execution_count": 9,
   "id": "dd88da74-c7a9-4b27-8774-dad8a9bf3b72",
   "metadata": {},
   "outputs": [
    {
     "name": "stdout",
     "output_type": "stream",
     "text": [
      "9\n"
     ]
    }
   ],
   "source": [
    "#创建一维数组\n",
    "arr=np.array([1,2,6,8,9,10,12])\n",
    "a=arr[4]                                #获取第5个元素\n",
    "print(a)"
   ]
  },
  {
   "cell_type": "code",
   "execution_count": 5,
   "id": "ab1be9bb-e1d4-4e43-94f0-04ca2efc2de8",
   "metadata": {},
   "outputs": [
    {
     "name": "stdout",
     "output_type": "stream",
     "text": [
      "[ 2  8 10] [1 2 6 8 9] [ 6  8  9 10 12]\n"
     ]
    }
   ],
   "source": [
    "#一维数组切片\n",
    "b1=arr[1:6:2]             \n",
    "b2=arr[:5]\n",
    "b3=arr[2:]\n",
    "print(b1,b2,b3)"
   ]
  },
  {
   "cell_type": "code",
   "execution_count": 8,
   "id": "5feef7bf-d0fd-4921-b50d-a8d3d9c5e67a",
   "metadata": {},
   "outputs": [
    {
     "name": "stdout",
     "output_type": "stream",
     "text": [
      "[ 1 20 30  8  9 10 12]\n"
     ]
    }
   ],
   "source": [
    "#修改数组中的元素\n",
    "arr[1:3]=20,30\n",
    "print(arr)"
   ]
  },
  {
   "cell_type": "code",
   "execution_count": 10,
   "id": "ce4496f8-e331-4009-906c-3656bc3fcbbd",
   "metadata": {},
   "outputs": [
    {
     "name": "stdout",
     "output_type": "stream",
     "text": [
      "8\n"
     ]
    }
   ],
   "source": [
    "#创建二维数组\n",
    "arr=np.array([[0,1,2,3,4],[5,6,7,8,9]])\n",
    "a=arr[1,3]\n",
    "print(a)"
   ]
  },
  {
   "cell_type": "code",
   "execution_count": 28,
   "id": "711ee0a0-577b-41d8-9483-19f6f15d0973",
   "metadata": {},
   "outputs": [
    {
     "name": "stdout",
     "output_type": "stream",
     "text": [
      "1: [[1 2]\n",
      " [6 7]]\n",
      "2: [[7 8 9]]\n",
      "3: [[0 2]]\n",
      "4: [[1 2]\n",
      " [6 7]]\n"
     ]
    }
   ],
   "source": [
    "#二维数组切片\n",
    "b1=arr[:2,1:3]\n",
    "b2=arr[1:,2:5]\n",
    "b3=arr[:2:2,:3:2]\n",
    "b4=arr[...,1:3]\n",
    "print('1:',b1)\n",
    "print('2:',b2)\n",
    "print('3:',b3)\n",
    "print('4:',b4)"
   ]
  },
  {
   "cell_type": "code",
   "execution_count": 29,
   "id": "be9704a5-7f75-420a-85be-acabbc58c26a",
   "metadata": {},
   "outputs": [
    {
     "name": "stdout",
     "output_type": "stream",
     "text": [
      "[[44  1 55  3  4]\n",
      " [ 5  6  7  8  9]]\n"
     ]
    }
   ],
   "source": [
    "#修改数组中的元素\n",
    "arr[:2:2,:3:2]=44,55\n",
    "print(arr)"
   ]
  },
  {
   "cell_type": "code",
   "execution_count": 38,
   "id": "35eb192d-ba18-4fca-87d3-2753ffdea468",
   "metadata": {},
   "outputs": [
    {
     "name": "stdout",
     "output_type": "stream",
     "text": [
      "[1 5 7]\n"
     ]
    }
   ],
   "source": [
    "#整数索引\n",
    "a=np.array([[1,2,3],[4,5,6],[7,8,9]])\n",
    "b=a[(0,1,2),(0,1,0)]\n",
    "print(b)           #[0,0],[1,1],[2,0]"
   ]
  },
  {
   "cell_type": "code",
   "execution_count": 40,
   "id": "9f15ac6e-6fc0-4317-8ea7-65a93918d64f",
   "metadata": {},
   "outputs": [
    {
     "name": "stdout",
     "output_type": "stream",
     "text": [
      "[1 3 7 9]\n"
     ]
    }
   ],
   "source": [
    "b=a[(0,0,2,2),(0,2,0,2)]\n",
    "print(b)           #[0,0],[0,2],[2,0],[2,2]"
   ]
  },
  {
   "cell_type": "code",
   "execution_count": 45,
   "id": "c3184838-4d6b-4ec3-a28e-3dc57e40f13e",
   "metadata": {},
   "outputs": [
    {
     "name": "stdout",
     "output_type": "stream",
     "text": [
      "a数组是： [[ 0  1  2]\n",
      " [ 3  4  5]\n",
      " [ 6  7  8]\n",
      " [ 9 10 11]]\n",
      "[ 6  7  8  9 10 11]\n"
     ]
    }
   ],
   "source": [
    "#布尔值索引\n",
    "a=np.array([[0,1,2,],[3,4,5],[6,7,8],[9,10,11]])\n",
    "print('a数组是：',a)\n",
    "#生成大于6的元素组成数组\n",
    "b=a[a>5]\n",
    "print(b)"
   ]
  },
  {
   "cell_type": "markdown",
   "id": "7e43bd8b-6a5f-46f1-839a-0935149c4532",
   "metadata": {},
   "source": [
    "# 修改数组形状"
   ]
  },
  {
   "cell_type": "code",
   "execution_count": 76,
   "id": "f955651b-0920-49e5-a839-ae08a7e673dd",
   "metadata": {},
   "outputs": [
    {
     "name": "stdout",
     "output_type": "stream",
     "text": [
      "[[ 0  1  2  4]\n",
      " [ 5  6  7  8]\n",
      " [ 9 10 11 12]] (3, 4)\n"
     ]
    }
   ],
   "source": [
    "arr=np.array([[0,1,2,4],[5,6,7,8],[9,10,11,12]])\n",
    "print(arr,arr.shape)"
   ]
  },
  {
   "cell_type": "code",
   "execution_count": 77,
   "id": "bcbba0b3-d51f-4521-8a79-8c2b12d2ca80",
   "metadata": {},
   "outputs": [
    {
     "name": "stdout",
     "output_type": "stream",
     "text": [
      "[[ 0  1  2]\n",
      " [ 4  5  6]\n",
      " [ 7  8  9]\n",
      " [10 11 12]] (4, 3)\n"
     ]
    }
   ],
   "source": [
    "#通过维度属性修改数组形状\n",
    "arr.shape=(4,3)\n",
    "print(arr,arr.shape)"
   ]
  },
  {
   "cell_type": "code",
   "execution_count": 17,
   "id": "9314d5ac-2b69-4dc7-a794-6c605125e841",
   "metadata": {},
   "outputs": [
    {
     "name": "stdout",
     "output_type": "stream",
     "text": [
      "[[ 0  1  2]\n",
      " [ 4  5  6]\n",
      " [ 7  8  9]\n",
      " [10 11 12]]\n",
      "[[ 0  1  2  4  5  6]\n",
      " [ 7  8  9 10 11 12]]\n"
     ]
    }
   ],
   "source": [
    "#reshape()函数（创建一个新数组）\n",
    "arr_b=arr.reshape(2,6)\n",
    "print(arr)\n",
    "print(arr_b)"
   ]
  },
  {
   "cell_type": "code",
   "execution_count": 73,
   "id": "aa13a252-6a8a-4569-a84a-bf929564a323",
   "metadata": {},
   "outputs": [
    {
     "name": "stdout",
     "output_type": "stream",
     "text": [
      "[[ 0  1  2  4]\n",
      " [ 5  6  7  8]\n",
      " [ 9 10 11 12]] (3, 4)\n"
     ]
    }
   ],
   "source": [
    "arr=np.array([[0,1,2,4],[5,6,7,8],[9,10,11,12]])\n",
    "print(arr,arr.shape)"
   ]
  },
  {
   "cell_type": "code",
   "execution_count": 75,
   "id": "849f8dc5-79a7-40cc-8444-e85c38d78708",
   "metadata": {},
   "outputs": [
    {
     "data": {
      "text/plain": [
       "array([[ 0,  1,  2,  4,  5],\n",
       "       [ 6,  7,  8,  9, 10],\n",
       "       [11, 12,  0,  0,  0],\n",
       "       [ 0,  0,  0,  0,  0],\n",
       "       [ 0,  0,  0,  0,  0]])"
      ]
     },
     "execution_count": 75,
     "metadata": {},
     "output_type": "execute_result"
    }
   ],
   "source": [
    "#resize()函数  （修改原数组）\n",
    "arr.resize(5,5)\n",
    "arr"
   ]
  },
  {
   "cell_type": "code",
   "execution_count": 74,
   "id": "6be9232a-722a-40ce-ad68-7466978d0010",
   "metadata": {},
   "outputs": [
    {
     "data": {
      "text/plain": [
       "array([[ 0,  1,  2,  4],\n",
       "       [ 5,  6,  7,  8],\n",
       "       [ 9, 10, 11, 12],\n",
       "       [ 0,  1,  2,  4]])"
      ]
     },
     "execution_count": 74,
     "metadata": {},
     "output_type": "execute_result"
    }
   ],
   "source": [
    "a=np.resize(arr,(4,4))\n",
    "a"
   ]
  },
  {
   "cell_type": "markdown",
   "id": "7aed3bf9-9c52-4538-8952-5a1d131efb16",
   "metadata": {},
   "source": [
    "# 数组的展平"
   ]
  },
  {
   "cell_type": "code",
   "execution_count": 79,
   "id": "6a912304-c022-4684-8822-6e6a777a8224",
   "metadata": {},
   "outputs": [],
   "source": [
    "import numpy as np"
   ]
  },
  {
   "cell_type": "code",
   "execution_count": 101,
   "id": "f2f756a8-e771-49b0-a766-08d1c980e664",
   "metadata": {},
   "outputs": [
    {
     "name": "stdout",
     "output_type": "stream",
     "text": [
      "[[ 0  1  2  4]\n",
      " [ 5  6  7  8]\n",
      " [ 9 10 11 12]]\n",
      "[ 0  1  2  4  5  6  7  8  9 10 11 12]\n"
     ]
    }
   ],
   "source": [
    "#ravel()函数 \n",
    "arr=np.array([[0,1,2,4],[5,6,7,8],[9,10,11,12]])\n",
    "arr_b=arr.ravel()\n",
    "print(arr)\n",
    "print(arr_b)"
   ]
  },
  {
   "cell_type": "code",
   "execution_count": 100,
   "id": "afd6da1f-fc48-4a7d-8677-73aa3fae6012",
   "metadata": {},
   "outputs": [
    {
     "data": {
      "text/plain": [
       "array([[  0,   1, 100,   4],\n",
       "       [  5,   6,   7,   8],\n",
       "       [  9,  10,  11,  12]])"
      ]
     },
     "execution_count": 100,
     "metadata": {},
     "output_type": "execute_result"
    }
   ],
   "source": [
    "arr.ravel()[2]=100\n",
    "arr"
   ]
  },
  {
   "cell_type": "code",
   "execution_count": 102,
   "id": "e53416c5-a116-4dcc-a45d-9995df2e79df",
   "metadata": {},
   "outputs": [
    {
     "data": {
      "text/plain": [
       "array([ 0,  5,  9,  1,  6, 10,  2,  7, 11,  4,  8, 12])"
      ]
     },
     "execution_count": 102,
     "metadata": {},
     "output_type": "execute_result"
    }
   ],
   "source": [
    "arr_c=arr.ravel(\"F\")\n",
    "arr_c"
   ]
  },
  {
   "cell_type": "code",
   "execution_count": 99,
   "id": "9a8078b2-ce3b-43a3-84ae-9d9203fbd9c6",
   "metadata": {},
   "outputs": [
    {
     "data": {
      "text/plain": [
       "array([[ 0,  1,  2,  4],\n",
       "       [ 5,  6,  7,  8],\n",
       "       [ 9, 10, 11, 12]])"
      ]
     },
     "execution_count": 99,
     "metadata": {},
     "output_type": "execute_result"
    }
   ],
   "source": [
    "arr.flatten()[2]=100\n",
    "arr"
   ]
  },
  {
   "cell_type": "code",
   "execution_count": 103,
   "id": "f8e21c71-1e9e-48fe-8b79-669a4f2de45f",
   "metadata": {},
   "outputs": [
    {
     "name": "stdout",
     "output_type": "stream",
     "text": [
      "[[ 0  1  2  4]\n",
      " [ 5  6  7  8]\n",
      " [ 9 10 11 12]] [ 0  1  2  4  5  6  7  8  9 10 11 12]\n"
     ]
    }
   ],
   "source": [
    "#flatten()函数\n",
    "arr_c=arr.flatten()\n",
    "print(arr,arr_c)"
   ]
  },
  {
   "cell_type": "markdown",
   "id": "8ce74cce-1d1f-46f6-a209-c5937099fdd1",
   "metadata": {},
   "source": [
    "# 数组的转置和轴对换"
   ]
  },
  {
   "cell_type": "code",
   "execution_count": 130,
   "id": "116451e5-3dc7-431b-94c8-626f0e995195",
   "metadata": {},
   "outputs": [
    {
     "name": "stdout",
     "output_type": "stream",
     "text": [
      "原数组： [[0 1 2 3 4]\n",
      " [5 6 7 8 9]]\n"
     ]
    }
   ],
   "source": [
    "import numpy as np\n",
    "arr=np.arange(10).reshape(2,5)\n",
    "print('原数组：',arr)"
   ]
  },
  {
   "cell_type": "code",
   "execution_count": 129,
   "id": "1ae49131-51e4-4090-b12f-ee8299d23cb8",
   "metadata": {},
   "outputs": [
    {
     "name": "stdout",
     "output_type": "stream",
     "text": [
      "转置数组\n",
      "[[0 5]\n",
      " [1 6]\n",
      " [2 7]\n",
      " [3 8]\n",
      " [4 9]]\n"
     ]
    }
   ],
   "source": [
    "#transpose()函数\n",
    "print('转置数组')\n",
    "print(np.transpose(arr))\n"
   ]
  },
  {
   "cell_type": "code",
   "execution_count": 132,
   "id": "f9f0a8f3-9df0-49dd-9589-66e31ff932f9",
   "metadata": {},
   "outputs": [
    {
     "data": {
      "text/plain": [
       "array([[0, 5],\n",
       "       [1, 6],\n",
       "       [2, 7],\n",
       "       [3, 8],\n",
       "       [4, 9]])"
      ]
     },
     "execution_count": 132,
     "metadata": {},
     "output_type": "execute_result"
    }
   ],
   "source": [
    "#ndarray.T函数\n",
    "arr.T"
   ]
  },
  {
   "cell_type": "code",
   "execution_count": 137,
   "id": "4c45a67f-ac26-4844-9a8c-374a32daa7b4",
   "metadata": {},
   "outputs": [
    {
     "name": "stdout",
     "output_type": "stream",
     "text": [
      "原数组： [[[0 1]\n",
      "  [2 3]]\n",
      "\n",
      " [[4 5]\n",
      "  [6 7]]]\n",
      "----\n",
      "[[[0 2]\n",
      "  [4 6]]\n",
      "\n",
      " [[1 3]\n",
      "  [5 7]]]\n"
     ]
    }
   ],
   "source": [
    "#rollaxis()函数\n",
    "arr=np.arange(8).reshape(2,2,2)\n",
    "print('原数组：',arr)\n",
    "#将轴2滚动到轴0(宽度到深度)\n",
    "print('----')\n",
    "print(np.rollaxis(arr,2))"
   ]
  },
  {
   "cell_type": "code",
   "execution_count": 138,
   "id": "c12099ba-1d66-437b-af49-c96156553cf8",
   "metadata": {},
   "outputs": [
    {
     "name": "stdout",
     "output_type": "stream",
     "text": [
      "[[[0 1]\n",
      "  [2 3]]\n",
      "\n",
      " [[4 5]\n",
      "  [6 7]]]\n"
     ]
    }
   ],
   "source": [
    "print(np.rollaxis(arr,0,1))"
   ]
  },
  {
   "cell_type": "code",
   "execution_count": 140,
   "id": "551abc04-575a-4273-9d35-e0fa06225c7f",
   "metadata": {},
   "outputs": [
    {
     "name": "stdout",
     "output_type": "stream",
     "text": [
      "原数组 [[[0 1]\n",
      "  [2 3]]\n",
      "\n",
      " [[4 5]\n",
      "  [6 7]]]\n",
      "--------\n",
      "[[[0 4]\n",
      "  [2 6]]\n",
      "\n",
      " [[1 5]\n",
      "  [3 7]]]\n"
     ]
    }
   ],
   "source": [
    "#用swapaxes()函数\n",
    "arr=np.arange(8).reshape(2,2,2)\n",
    "print('原数组',arr)\n",
    "print('--------')\n",
    "print(np.swapaxes(arr,0,2))"
   ]
  },
  {
   "cell_type": "markdown",
   "id": "0c7fdd54-f203-4625-87b1-a35b8715f51c",
   "metadata": {},
   "source": [
    "# 数组的连接"
   ]
  },
  {
   "cell_type": "code",
   "execution_count": 1,
   "id": "7f88af23-3494-4889-9cd1-72d7839bb9bb",
   "metadata": {},
   "outputs": [
    {
     "name": "stdout",
     "output_type": "stream",
     "text": [
      "第一个数组\n",
      "[[1 2 3]\n",
      " [4 5 6]]\n",
      "第二个数组\n",
      "[['a' '8' '9']\n",
      " ['b' '11' '12']]\n"
     ]
    }
   ],
   "source": [
    "import numpy as np\n",
    "arr1=np.array([[1,2,3],[4,5,6]])\n",
    "print('第一个数组')\n",
    "print(arr1)\n",
    "arr2=np.array([['a',8,9],['b',11,12]])\n",
    "print('第二个数组')\n",
    "print(arr2)"
   ]
  },
  {
   "cell_type": "code",
   "execution_count": 9,
   "id": "7dbc642f-1b6d-4460-b445-173c95c02ce5",
   "metadata": {},
   "outputs": [
    {
     "name": "stdout",
     "output_type": "stream",
     "text": [
      "沿0轴连接2个数组\n",
      "[['1' '2' '3']\n",
      " ['4' '5' '6']\n",
      " ['a' '8' '9']\n",
      " ['b' '11' '12']]\n",
      "沿1轴堆叠2个函数\n",
      "[['1' '2' '3' 'a' '8' '9']\n",
      " ['4' '5' '6' 'b' '11' '12']]\n"
     ]
    }
   ],
   "source": [
    "#concatenate函数\n",
    "print('沿0轴连接2个数组')\n",
    "print(np.concatenate((arr1,arr2)))\n",
    "print('沿1轴堆叠2个函数')\n",
    "print(np.concatenate((arr1,arr2),1))"
   ]
  },
  {
   "cell_type": "code",
   "execution_count": 13,
   "id": "9bdc1b88-9598-4e45-94c3-f207528df43f",
   "metadata": {},
   "outputs": [
    {
     "name": "stdout",
     "output_type": "stream",
     "text": [
      "沿0轴堆叠2个数组\n",
      "[[['1' '2' '3']\n",
      "  ['4' '5' '6']]\n",
      "\n",
      " [['a' '8' '9']\n",
      "  ['b' '11' '12']]]\n",
      "沿轴1堆叠2个数组\n",
      "[[['1' '2' '3']\n",
      "  ['a' '8' '9']]\n",
      "\n",
      " [['4' '5' '6']\n",
      "  ['b' '11' '12']]]\n"
     ]
    }
   ],
   "source": [
    "#stack函数\n",
    "print('沿0轴堆叠2个数组')\n",
    "print(np.stack((arr1,arr2),0))\n",
    "print('沿轴1堆叠2个数组')\n",
    "print(np.stack((arr1,arr2),1))"
   ]
  },
  {
   "cell_type": "code",
   "execution_count": 3,
   "id": "a1c0aa19-6f62-4e3d-9b4d-bd06303efea9",
   "metadata": {},
   "outputs": [
    {
     "name": "stdout",
     "output_type": "stream",
     "text": [
      "水平堆叠\n",
      "[['1' '2' '3' 'a' '8' '9']\n",
      " ['4' '5' '6' 'b' '11' '12']]\n",
      "竖直堆叠\n",
      "[['1' '2' '3']\n",
      " ['4' '5' '6']\n",
      " ['a' '8' '9']\n",
      " ['b' '11' '12']]\n"
     ]
    }
   ],
   "source": [
    "#hstack函数和vstack函数\n",
    "print('水平堆叠')\n",
    "print(np.hstack((arr1,arr2)))\n",
    "print('竖直堆叠')\n",
    "print(np.vstack((arr1,arr2)))"
   ]
  },
  {
   "cell_type": "markdown",
   "id": "6c2db6a7-4a03-40d7-bfa6-0ef3e5d55982",
   "metadata": {},
   "source": [
    "# 数组的分割"
   ]
  },
  {
   "cell_type": "code",
   "execution_count": 4,
   "id": "f18b9b31-01af-4be3-9e16-e84503026e97",
   "metadata": {},
   "outputs": [
    {
     "name": "stdout",
     "output_type": "stream",
     "text": [
      "第1个数组arr1: [[1 2 3]\n",
      " [4 5 6]]\n",
      "第2个数组arr2: [0 1 2 3 4 5 6 7 8]\n"
     ]
    }
   ],
   "source": [
    "import numpy as np\n",
    "arr1=np.array([[1,2,3],[4,5,6]])\n",
    "print('第1个数组arr1:',arr1)\n",
    "arr2=np.arange(9)\n",
    "print('第2个数组arr2:',arr2)"
   ]
  },
  {
   "cell_type": "code",
   "execution_count": 12,
   "id": "15835ee2-8532-45a1-9de1-6a9e3feaf13d",
   "metadata": {},
   "outputs": [
    {
     "name": "stdout",
     "output_type": "stream",
     "text": [
      "将arr1数组竖直分割为2个大小相等的子数组:\n",
      "[array([[1, 2, 3]]), array([[4, 5, 6]])]\n",
      "将arr1数组水平分割为3个大小相等的子数组:\n",
      "[array([[1],\n",
      "       [4]]), array([[2],\n",
      "       [5]]), array([[3],\n",
      "       [6]])]\n",
      "将arr2数组在一维数组中表明位置分割:\n",
      "[array([0, 1]), array([2, 3, 4]), array([5, 6, 7, 8])]\n"
     ]
    }
   ],
   "source": [
    "#使用split函数\n",
    "print('将arr1数组竖直分割为2个大小相等的子数组:')\n",
    "print(np.split(arr1,2,axis=0))\n",
    "print('将arr1数组水平分割为3个大小相等的子数组:')\n",
    "print(np.split(arr1,3,axis=1))\n",
    "print('将arr2数组在一维数组中表明位置分割:')\n",
    "print(np.split(arr2,[2,5]))"
   ]
  },
  {
   "cell_type": "code",
   "execution_count": 14,
   "id": "bf4465fe-7a03-44da-83c2-4e942d6c8795",
   "metadata": {},
   "outputs": [
    {
     "name": "stdout",
     "output_type": "stream",
     "text": [
      "arr1数组水平分割:\n",
      "[array([[1],\n",
      "       [4]]), array([[2],\n",
      "       [5]]), array([[3],\n",
      "       [6]])]\n",
      "arr1数组竖直分割\n",
      "[array([[1, 2, 3]]), array([[4, 5, 6]])]\n",
      "arr2数组水平分割\n",
      "np.hsplit(arr2,[2,5])\n"
     ]
    }
   ],
   "source": [
    "#使用hsplit函数和vsplit函数\n",
    "print('arr1数组水平分割:')\n",
    "print(np.hsplit(arr1,3))\n",
    "print('arr1数组竖直分割')\n",
    "print(np.vsplit(arr1,2))\n",
    "print('arr2数组水平分割')\n",
    "print('np.hsplit(arr2,[2,5])')"
   ]
  },
  {
   "cell_type": "markdown",
   "id": "bfdfbdd8-4a05-4ec6-9f02-c01946bec49e",
   "metadata": {},
   "source": [
    "# 数组转换"
   ]
  },
  {
   "cell_type": "code",
   "execution_count": 2,
   "id": "05859911-48ea-4a7e-9c20-ec14679c552b",
   "metadata": {},
   "outputs": [
    {
     "name": "stdout",
     "output_type": "stream",
     "text": [
      "原数组 [[0 1 2]\n",
      " [3 4 5]\n",
      " [6 7 8]]\n"
     ]
    }
   ],
   "source": [
    "#数组转换成列表\n",
    "import numpy as np\n",
    "arr=np.arange(9).reshape(3,3)\n",
    "print('原数组',arr)"
   ]
  },
  {
   "cell_type": "code",
   "execution_count": 5,
   "id": "5a10dead-4c48-416c-965d-f35220568376",
   "metadata": {},
   "outputs": [
    {
     "name": "stdout",
     "output_type": "stream",
     "text": [
      "将arr数组转换成列表\n",
      "[[0, 1, 2], [3, 4, 5], [6, 7, 8]]\n"
     ]
    }
   ],
   "source": [
    "print('将arr数组转换成列表')\n",
    "arr_list=arr.tolist()\n",
    "print(arr_list)"
   ]
  },
  {
   "cell_type": "markdown",
   "id": "c5a4a038-0d5f-490f-9260-d7cf8501370f",
   "metadata": {},
   "source": [
    "# 添加/删除数组元素"
   ]
  },
  {
   "cell_type": "code",
   "execution_count": 7,
   "id": "8a5cf25d-2132-4977-b14d-a4606c34cff1",
   "metadata": {},
   "outputs": [
    {
     "name": "stdout",
     "output_type": "stream",
     "text": [
      "第一个数组arr： [[1 2 3 4]\n",
      " [5 6 7 8]]\n"
     ]
    }
   ],
   "source": [
    "#append函数\n",
    "import numpy as np\n",
    "arr=np.array([[1,2,3,4],[5,6,7,8]])\n",
    "print('第一个数组arr：',arr)"
   ]
  },
  {
   "cell_type": "code",
   "execution_count": 13,
   "id": "33fe8411-8161-446b-9c05-b2583a865f19",
   "metadata": {},
   "outputs": [
    {
     "name": "stdout",
     "output_type": "stream",
     "text": [
      "向第一个数组添加元素：\n",
      "[ 1  2  3  4  5  6  7  8  9 10 11 12]\n",
      "原数组: [[1 2 3 4]\n",
      " [5 6 7 8]]\n"
     ]
    }
   ],
   "source": [
    "print('向第一个数组添加元素：')\n",
    "print(np.append(arr,[[9,10],[11,12]]))\n",
    "print('原数组:',arr)"
   ]
  },
  {
   "cell_type": "code",
   "execution_count": 15,
   "id": "84602988-bccb-4bea-80c3-2c7f3852f3c2",
   "metadata": {},
   "outputs": [
    {
     "name": "stdout",
     "output_type": "stream",
     "text": [
      "沿0轴添加数组:\n",
      "[[ 1  2  3  4]\n",
      " [ 5  6  7  8]\n",
      " [ 9 10 11 12]\n",
      " [11 11 11 11]]\n"
     ]
    }
   ],
   "source": [
    "print('沿0轴添加数组:')\n",
    "print(np.append(arr,[[9,10,11,12],[11,11,11,11]],axis=0))"
   ]
  },
  {
   "cell_type": "code",
   "execution_count": 17,
   "id": "de5c2293-cb98-4e96-94bd-adcba29ab6c3",
   "metadata": {},
   "outputs": [
    {
     "name": "stdout",
     "output_type": "stream",
     "text": [
      "沿1轴添加数组:\n",
      "[[ 1  2  3  4  9 10]\n",
      " [ 5  6  7  8 11 12]]\n"
     ]
    }
   ],
   "source": [
    "print('沿1轴添加数组:')\n",
    "print(np.append(arr,[[9,10],[11,12]],1))"
   ]
  },
  {
   "cell_type": "code",
   "execution_count": 18,
   "id": "49ba815f-c9bf-4e3b-a2dc-0e8d754b2a2e",
   "metadata": {},
   "outputs": [
    {
     "name": "stdout",
     "output_type": "stream",
     "text": [
      "第一个数组arr: [[1 2 3 4]\n",
      " [5 6 7 8]]\n"
     ]
    }
   ],
   "source": [
    "#insert函数\n",
    "import numpy as np\n",
    "arr = np.array([[1,2,3,4],[5,6,7,8]])\n",
    "print('第一个数组arr:',arr)"
   ]
  },
  {
   "cell_type": "code",
   "execution_count": 20,
   "id": "f05e971c-1ddc-4a00-9414-6637dbc22551",
   "metadata": {},
   "outputs": [
    {
     "name": "stdout",
     "output_type": "stream",
     "text": [
      "未传递axis参数，在插入前输入数组会被展开。\n",
      "[ 1  2  3  4  9 10 11 12  5  6  7  8]\n"
     ]
    }
   ],
   "source": [
    "print('未传递axis参数，在插入前输入数组会被展开。')\n",
    "print(np.insert(arr,4,[9,10,11,12]))"
   ]
  },
  {
   "cell_type": "code",
   "execution_count": 21,
   "id": "4fa5ba3b-557d-4028-b76d-1e63c45d1005",
   "metadata": {},
   "outputs": [
    {
     "name": "stdout",
     "output_type": "stream",
     "text": [
      "传递了axis参数，会以广播值数组来匹配数组。\n",
      "沿0轴广播:\n",
      "[[1 2 3 4]\n",
      " [5 6 7 8]\n",
      " [9 9 9 9]]\n"
     ]
    }
   ],
   "source": [
    "print('传递了axis参数，会以广播值数组来匹配数组。')\n",
    "print('沿0轴广播:')\n",
    "print(np.insert(arr,2,[9],axis=0))"
   ]
  },
  {
   "cell_type": "code",
   "execution_count": 22,
   "id": "ca47d643-77ad-474f-a94d-f1fcf01e205e",
   "metadata": {},
   "outputs": [
    {
     "name": "stdout",
     "output_type": "stream",
     "text": [
      "沿0轴插入:\n",
      "[[ 1  2  3  4]\n",
      " [ 5  6  7  8]\n",
      " [ 9 10 11 12]]\n"
     ]
    }
   ],
   "source": [
    "print('沿0轴插入:')\n",
    "print(np.insert(arr,2,[9,10,11,12],axis=0))"
   ]
  },
  {
   "cell_type": "code",
   "execution_count": 23,
   "id": "a5c1ab40-b177-423d-b8e7-fa38665b2461",
   "metadata": {},
   "outputs": [
    {
     "name": "stdout",
     "output_type": "stream",
     "text": [
      "沿1轴广播:\n",
      "[[ 1  2  9 10  3  4]\n",
      " [ 5  6  9 10  7  8]]\n"
     ]
    }
   ],
   "source": [
    "print('沿1轴广播:')\n",
    "print(np.insert(arr,2,[[9],[10]],axis=1))"
   ]
  },
  {
   "cell_type": "code",
   "execution_count": 24,
   "id": "43b8e5d7-1ba1-4050-b92a-706fd1b3e491",
   "metadata": {},
   "outputs": [
    {
     "name": "stdout",
     "output_type": "stream",
     "text": [
      "沿1轴广播:\n",
      "[[ 1  2  9 11  3  4]\n",
      " [ 5  6 10 12  7  8]]\n"
     ]
    }
   ],
   "source": [
    "print('沿1轴广播:')\n",
    "print(np.insert(arr,2,[[9,10],[11,12]],axis=1))"
   ]
  },
  {
   "cell_type": "code",
   "execution_count": 25,
   "id": "c980f83e-9e9f-48f3-9a58-343c1c388de5",
   "metadata": {},
   "outputs": [
    {
     "name": "stdout",
     "output_type": "stream",
     "text": [
      "第一个数组arr: [[ 0  1  2  3]\n",
      " [ 4  5  6  7]\n",
      " [ 8  9 10 11]\n",
      " [12 13 14 15]]\n"
     ]
    }
   ],
   "source": [
    "#delete()函数\n",
    "import numpy as np\n",
    "arr = np.arange(16).reshape(4,4)\n",
    "print('第一个数组arr:',arr)"
   ]
  },
  {
   "cell_type": "code",
   "execution_count": 26,
   "id": "3e7f7bbd-7548-41da-924c-b7c2777a7c0d",
   "metadata": {},
   "outputs": [
    {
     "name": "stdout",
     "output_type": "stream",
     "text": [
      "若未传递axis参数，在删除前输入数组会被展开。\n",
      "[ 0  1  2  3  4  5  7  8 10 11 13 14 15]\n",
      "[[ 0  1  2  3]\n",
      " [ 4  5  6  7]\n",
      " [ 8  9 10 11]\n",
      " [12 13 14 15]]\n"
     ]
    }
   ],
   "source": [
    "print('若未传递axis参数，在删除前输入数组会被展开。')\n",
    "print(np.delete(arr,[6,9,12]))\n",
    "print(arr)"
   ]
  },
  {
   "cell_type": "code",
   "execution_count": 29,
   "id": "47c734a3-87cd-48ac-bcc4-50ad0a4ed031",
   "metadata": {},
   "outputs": [
    {
     "name": "stdout",
     "output_type": "stream",
     "text": [
      "删除第3列\n",
      "[[ 0  1  3]\n",
      " [ 4  5  7]\n",
      " [ 8  9 11]\n",
      " [12 13 15]]\n"
     ]
    }
   ],
   "source": [
    "print('删除第3列')\n",
    "print(np.delete(arr,2,1))"
   ]
  },
  {
   "cell_type": "code",
   "execution_count": 30,
   "id": "043f60cc-5f0b-4b23-88da-c0ac10c44aab",
   "metadata": {},
   "outputs": [
    {
     "name": "stdout",
     "output_type": "stream",
     "text": [
      "删除第二行\n",
      "[[ 0  1  2  3]\n",
      " [ 8  9 10 11]\n",
      " [12 13 14 15]]\n"
     ]
    }
   ],
   "source": [
    "print('删除第二行')\n",
    "print(np.delete(arr,1,0))"
   ]
  },
  {
   "cell_type": "code",
   "execution_count": 38,
   "id": "671150e0-12a3-4fca-868b-0a5d5aedf6b6",
   "metadata": {},
   "outputs": [
    {
     "ename": "SyntaxError",
     "evalue": "invalid syntax (Temp/ipykernel_18492/2079963770.py, line 2)",
     "output_type": "error",
     "traceback": [
      "\u001b[1;36m  File \u001b[1;32m\"C:\\Users\\admin\\AppData\\Local\\Temp/ipykernel_18492/2079963770.py\"\u001b[1;36m, line \u001b[1;32m2\u001b[0m\n\u001b[1;33m    print(np.delete(arr,::2))\u001b[0m\n\u001b[1;37m                        ^\u001b[0m\n\u001b[1;31mSyntaxError\u001b[0m\u001b[1;31m:\u001b[0m invalid syntax\n"
     ]
    }
   ],
   "source": [
    "print('从数组中删除用切片表示元素范围值：')\n",
    "print(np.delete(arr,::2))\n",
    "print(np.delete(arr,s_[::2]))"
   ]
  },
  {
   "cell_type": "code",
   "execution_count": 37,
   "id": "5986f3c4-0ea8-48b9-bc79-a35096eded07",
   "metadata": {},
   "outputs": [
    {
     "name": "stdout",
     "output_type": "stream",
     "text": [
      "slice(None, None, 2)\n"
     ]
    }
   ],
   "source": [
    "print(np.s_[::2])\n",
    "print()"
   ]
  },
  {
   "cell_type": "code",
   "execution_count": null,
   "id": "c75b626c-aad6-4e06-acbe-26a8f73de5f3",
   "metadata": {},
   "outputs": [],
   "source": []
  }
 ],
 "metadata": {
  "kernelspec": {
   "display_name": "Python 3 (ipykernel)",
   "language": "python",
   "name": "python3"
  },
  "language_info": {
   "codemirror_mode": {
    "name": "ipython",
    "version": 3
   },
   "file_extension": ".py",
   "mimetype": "text/x-python",
   "name": "python",
   "nbconvert_exporter": "python",
   "pygments_lexer": "ipython3",
   "version": "3.9.7"
  }
 },
 "nbformat": 4,
 "nbformat_minor": 5
}
