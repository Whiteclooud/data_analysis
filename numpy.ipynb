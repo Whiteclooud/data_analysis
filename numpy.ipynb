{
 "cells": [
  {
   "cell_type": "code",
   "execution_count": 19,
   "id": "819d7a77-460a-439c-bfdb-4ba0ccb88225",
   "metadata": {},
   "outputs": [],
   "source": [
    "import numpy as np"
   ]
  },
  {
   "cell_type": "markdown",
   "id": "825d6fb0-a158-4043-a1cf-6beca34ffca5",
   "metadata": {},
   "source": [
    "# 创建数组对象"
   ]
  },
  {
   "cell_type": "code",
   "execution_count": 16,
   "id": "f428448e-5cc7-4a40-bdc4-215d82bed442",
   "metadata": {},
   "outputs": [
    {
     "name": "stdout",
     "output_type": "stream",
     "text": [
      "一维数组： [1 2 3 4]\n"
     ]
    }
   ],
   "source": [
    "arr1 = np.array([1,2,3,4])                #创建一维数组\n",
    "print(\"一维数组：\",arr1)"
   ]
  },
  {
   "cell_type": "code",
   "execution_count": 7,
   "id": "be1225c6-161f-4e78-90ae-04187ed19b9f",
   "metadata": {},
   "outputs": [
    {
     "name": "stdout",
     "output_type": "stream",
     "text": [
      "二维数组：\n",
      " [[1 2 3]\n",
      " [4 5 6]]\n"
     ]
    }
   ],
   "source": [
    "arr2 = np.array([[1,2,3],[4,5,6]])        #创建二维2数组\n",
    "print(\"二维数组：\\n\",arr2)"
   ]
  },
  {
   "cell_type": "code",
   "execution_count": 8,
   "id": "3ee52ca9-e730-4bc4-8bef-5518215c98e8",
   "metadata": {},
   "outputs": [
    {
     "name": "stdout",
     "output_type": "stream",
     "text": [
      "三维数组:\n",
      " [[[1 2 3 4]]]\n"
     ]
    }
   ],
   "source": [
    "arr3 = np.array([1,2,3,4],ndmin=3)       #设置最小为度3\n",
    "print(\"三维数组:\\n\",arr3)"
   ]
  },
  {
   "cell_type": "code",
   "execution_count": 9,
   "id": "32414027-ef20-4195-a84f-c102c43522a7",
   "metadata": {},
   "outputs": [
    {
     "name": "stdout",
     "output_type": "stream",
     "text": [
      "复数数组: [1.+0.j 2.+0.j 3.+0.j 4.+0.j]\n"
     ]
    }
   ],
   "source": [
    "arr4 = np.array([1,2,3,4],dtype=complex) #指定数据类型dtype为复数\n",
    "print(\"复数数组:\",arr4)"
   ]
  },
  {
   "cell_type": "markdown",
   "id": "e4f79e33-6659-458d-881e-ec43ee2d14ce",
   "metadata": {},
   "source": [
    "# 数组的属性"
   ]
  },
  {
   "cell_type": "code",
   "execution_count": 15,
   "id": "1382d5ed-58d4-47e6-89b4-d34d2676f420",
   "metadata": {},
   "outputs": [
    {
     "name": "stdout",
     "output_type": "stream",
     "text": [
      "数组维度: 2\n",
      "数组形状: (2, 3)\n",
      "数组的元素总数: 6\n",
      "数组元素的数据类型: int32\n",
      "数组中每个元素的大小： 4\n",
      "数组\n",
      " [[1 2]\n",
      " [3 4]\n",
      " [5 6]]\n",
      "数组元素的数据类型: float32\n"
     ]
    }
   ],
   "source": [
    "arr1 = np.array([[1,2,3],[4,5,6]])\n",
    "print(\"数组维度:\",arr1.ndim)\n",
    "print(\"数组形状:\",arr1.shape)\n",
    "print(\"数组的元素总数:\",arr1.size)\n",
    "print(\"数组元素的数据类型:\",arr1.dtype)\n",
    "print(\"数组中每个元素的大小：\",arr1.itemsize)\n",
    "arr1.shape=(3,2)  #shape属性应用\n",
    "print(\"数组\\n\",arr1)\n",
    "#利用dtype属性指定数据类型\n",
    "arr3 = np.array([1,2,3,4],dtype = np.float32)\n",
    "print(\"数组元素的数据类型:\",arr3.dtype)"
   ]
  },
  {
   "cell_type": "code",
   "execution_count": 25,
   "id": "418e20b3-022e-4c4b-a412-6601e296d0d1",
   "metadata": {},
   "outputs": [
    {
     "name": "stdout",
     "output_type": "stream",
     "text": [
      "数据类型： [('pro_name', '<U50'), ('pro_price', '<f4')]\n"
     ]
    }
   ],
   "source": [
    "pro_type = np.dtype([('pro_name',str,50),('pro_price',np.float32)])\n",
    "print('数据类型：',pro_type)"
   ]
  },
  {
   "cell_type": "code",
   "execution_count": 27,
   "id": "da37defd-8e47-4a9a-ab73-7c0a79b5eb8a",
   "metadata": {},
   "outputs": [
    {
     "name": "stdout",
     "output_type": "stream",
     "text": [
      "自定义数据类型: [('电视机', 3400.) ('空调', 2600.)]\n"
     ]
    }
   ],
   "source": [
    "pro_arr=np.array([('电视机',3400),('空调',2600)],dtype=pro_type)\n",
    "print('自定义数据类型:',pro_arr)"
   ]
  },
  {
   "cell_type": "code",
   "execution_count": null,
   "id": "32710bc0-ef04-4b0d-bd8f-4657486f0c59",
   "metadata": {},
   "outputs": [],
   "source": []
  }
 ],
 "metadata": {
  "kernelspec": {
   "display_name": "Python 3 (ipykernel)",
   "language": "python",
   "name": "python3"
  },
  "language_info": {
   "codemirror_mode": {
    "name": "ipython",
    "version": 3
   },
   "file_extension": ".py",
   "mimetype": "text/x-python",
   "name": "python",
   "nbconvert_exporter": "python",
   "pygments_lexer": "ipython3",
   "version": "3.9.7"
  }
 },
 "nbformat": 4,
 "nbformat_minor": 5
}
